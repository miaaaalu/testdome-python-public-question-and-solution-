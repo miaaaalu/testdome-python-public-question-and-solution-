{
 "cells": [
  {
   "cell_type": "markdown",
   "metadata": {},
   "source": [
    "# Merge Names\n",
    "\n",
    "Implement the unique_names method. When passed two lists of names, it will return a list, containing the names that appear in either or both lists. The returned list should have no duplicates.\n",
    "\n",
    "For example, calling unique_names(['Ava', 'Emma', 'Olivia'], ['Olivia', 'Sophia', 'Emma']) should return a list containing Ava, Emma, Olivia, and Sophia in any order."
   ]
  },
  {
   "cell_type": "code",
   "execution_count": 10,
   "metadata": {},
   "outputs": [
    {
     "name": "stdout",
     "output_type": "stream",
     "text": [
      "['Ava', 'Emma', 'Olivia', 'Sophia']\n"
     ]
    }
   ],
   "source": [
    "# Solution 1\n",
    "def unique_name(names1,names2):\n",
    "    unique_list = []\n",
    "    for name in names1 + names2:\n",
    "        if name not in unique_list:\n",
    "            unique_list.append(name)\n",
    "    return unique_list\n",
    "\n",
    "names1 = [\"Ava\", \"Emma\", \"Olivia\"]\n",
    "names2 = [\"Olivia\", \"Sophia\", \"Emma\"]\n",
    "\n",
    "print(unique_name(names1,names2))"
   ]
  },
  {
   "cell_type": "code",
   "execution_count": 11,
   "metadata": {},
   "outputs": [
    {
     "name": "stdout",
     "output_type": "stream",
     "text": [
      "['Sophia', 'Emma', 'Olivia', 'Ava']\n"
     ]
    }
   ],
   "source": [
    "# Solution 2\n",
    "def unique_names(names1, names2):\n",
    "    unique = set(names1) | set(names2)\n",
    "    return list(unique)\n",
    "\n",
    "# Example usage\n",
    "names1 = ['Ava', 'Emma', 'Olivia']\n",
    "names2 = ['Olivia', 'Sophia', 'Emma']\n",
    "print(unique_names(names1, names2))  # Should print a list of unique names\n"
   ]
  }
 ],
 "metadata": {
  "kernelspec": {
   "display_name": "Python 3",
   "language": "python",
   "name": "python3"
  },
  "language_info": {
   "codemirror_mode": {
    "name": "ipython",
    "version": 3
   },
   "file_extension": ".py",
   "mimetype": "text/x-python",
   "name": "python",
   "nbconvert_exporter": "python",
   "pygments_lexer": "ipython3",
   "version": "3.11.3"
  }
 },
 "nbformat": 4,
 "nbformat_minor": 2
}
