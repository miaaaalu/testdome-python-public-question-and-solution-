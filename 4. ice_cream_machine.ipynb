{
 "cells": [
  {
   "cell_type": "markdown",
   "metadata": {},
   "source": [
    "# Ice Cream Machine\n",
    "\n",
    "Implement the IceCreamMachine's scoops method so that it returns all combinations of one ingredient and one topping. If there are no ingredients or toppings, the method should return an empty list.\n",
    "\n",
    "For example, `IceCreamMachine(['vanilla', 'chocolate'], ['chocolate sauce']).scoops()` should return `[['vanilla', 'chocolate sauce'], ['chocolate', 'chocolate sauce']]`."
   ]
  },
  {
   "cell_type": "code",
   "execution_count": 9,
   "metadata": {},
   "outputs": [
    {
     "name": "stdout",
     "output_type": "stream",
     "text": [
      "[['vanilla', 'chocolate sauce'], ['chocolate', 'chocolate sauce']]\n"
     ]
    }
   ],
   "source": [
    "class IceCreamMachine:\n",
    "    \n",
    "    def __init__(self, ingredients, toppings):\n",
    "        self.ingredients = ingredients\n",
    "        self.toppings = toppings\n",
    "        \n",
    "    def scoops(self):\n",
    "        combinations = []\n",
    "        for ingredient in self.ingredients:\n",
    "            for topping in self.toppings:\n",
    "                combinations.append([ingredient,topping])\n",
    "        return combinations\n",
    "    \n",
    "        # return [[ingredient, topping] for ingredient in self.ingredients for topping in self.toppings]\n",
    "\n",
    "if __name__ == \"__main__\":\n",
    "    machine = IceCreamMachine([\"vanilla\", \"chocolate\"], [\"chocolate sauce\"])\n",
    "    print(machine.scoops()) \n",
    "\n",
    "#should print: [['vanilla', 'chocolate sauce'], ['chocolate', 'chocolate sauce']]"
   ]
  }
 ],
 "metadata": {
  "kernelspec": {
   "display_name": "Python 3",
   "language": "python",
   "name": "python3"
  },
  "language_info": {
   "codemirror_mode": {
    "name": "ipython",
    "version": 3
   },
   "file_extension": ".py",
   "mimetype": "text/x-python",
   "name": "python",
   "nbconvert_exporter": "python",
   "pygments_lexer": "ipython3",
   "version": "3.11.3"
  }
 },
 "nbformat": 4,
 "nbformat_minor": 2
}
