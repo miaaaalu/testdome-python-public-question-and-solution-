{
 "cells": [
  {
   "cell_type": "markdown",
   "metadata": {},
   "source": [
    "```py\n",
    "students = [(\"Allen Anderson\", \"Computer Science\"),\n",
    "            (\"Edgar Einstein\", \"Engineering\"),\n",
    "            (\"Farrah Finn\", \"Fine Arts\")]\n",
    "\n",
    "def add_new_student(students, name, major):\n",
    "    students.append((name, major))\n",
    "\n",
    "def update_student(students, index, name, major):\n",
    "    students[index] = (name, major)\n",
    "\n",
    "def find_students_by_name(students, name):\n",
    "    return [student for student in students if name in student[0]]\n",
    "\n",
    "def get_all_majors(students):\n",
    "    return [student[1] for student in students]\n",
    "```"
   ]
  },
  {
   "cell_type": "code",
   "execution_count": 2,
   "metadata": {},
   "outputs": [],
   "source": [
    "students = [(\"Allen Anderson\", \"Computer Science\"),\n",
    "            (\"Edgar Einstein\", \"Engineering\"),\n",
    "            (\"Farrah Finn\", \"Fine Arts\")]\n",
    "\n",
    "def add_new_student(students, name, major):\n",
    "    students.append((name, major))\n",
    "    print(students)\n",
    "\n",
    "def update_student(students, index, name, major):\n",
    "    students[index] = (name, major)\n",
    "\n",
    "def find_students_by_name(students, name):\n",
    "    return [student for student in students if name in student[0]]\n",
    "\n",
    "def get_all_majors(students):\n",
    "    return [student[1] for student in students]"
   ]
  }
 ],
 "metadata": {
  "kernelspec": {
   "display_name": "Python 3",
   "language": "python",
   "name": "python3"
  },
  "language_info": {
   "codemirror_mode": {
    "name": "ipython",
    "version": 3
   },
   "file_extension": ".py",
   "mimetype": "text/x-python",
   "name": "python",
   "nbconvert_exporter": "python",
   "pygments_lexer": "ipython3",
   "version": "3.11.3"
  }
 },
 "nbformat": 4,
 "nbformat_minor": 2
}
