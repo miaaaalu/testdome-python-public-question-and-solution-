{
 "cells": [
  {
   "cell_type": "markdown",
   "metadata": {},
   "source": [
    "# Quadratic Equation\n",
    "\n",
    "Implement the function find_roots to find the roots of the quadratic equation: ax^2 + bx + c = 0. \n",
    "\n",
    "The function should return a tuple containing roots in any order. If the equation has only one solution, the function should return that solution as both elements of the tuple. The equation will always have at least one solution.\n",
    "\n",
    "The roots of the quadratic equation can be found with the following formula:\n",
    "\n",
    "`x_{1,2} = (-b ± √(b^2 - 4ac)) / (2a)`\n",
    "\n",
    "For example, find_roots(2, 10, 8) should return (-1, -4) or (-4, -1) as the roots of the equation 2x^2 + 10x + 8 = 0 are -1 and -4."
   ]
  },
  {
   "cell_type": "code",
   "execution_count": 1,
   "metadata": {},
   "outputs": [
    {
     "name": "stdout",
     "output_type": "stream",
     "text": [
      "(-1.0, -4.0)\n"
     ]
    }
   ],
   "source": [
    "def find_roots(a, b, c):\n",
    "    discriminant = b**2 - 4*a*c  \n",
    "    if discriminant >= 0:\n",
    "        root1 = (-b + discriminant**0.5) / (2*a)\n",
    "        root2 = (-b - discriminant**0.5) / (2*a)\n",
    "        return (root1, root2)\n",
    "    else:\n",
    "        return None\n",
    "\n",
    "# Example usage:\n",
    "print(find_roots(2, 10, 8))  # Output should be roots of the equation 2x^2 + 10x\n"
   ]
  }
 ],
 "metadata": {
  "kernelspec": {
   "display_name": "Python 3",
   "language": "python",
   "name": "python3"
  },
  "language_info": {
   "codemirror_mode": {
    "name": "ipython",
    "version": 3
   },
   "file_extension": ".py",
   "mimetype": "text/x-python",
   "name": "python",
   "nbconvert_exporter": "python",
   "pygments_lexer": "ipython3",
   "version": "3.11.3"
  }
 },
 "nbformat": 4,
 "nbformat_minor": 2
}
