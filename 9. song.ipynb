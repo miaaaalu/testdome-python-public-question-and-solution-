{
 "cells": [
  {
   "cell_type": "markdown",
   "metadata": {},
   "source": [
    "# Song\n",
    "\n",
    "A playlist is considered a repeating playlist if any of the songs contain a reference to a previous song in the playlist. \n",
    "\n",
    "Otherwise, the playlist will end with the last song which points to None.\n",
    "\n",
    "Implement a function `is_in_repeating_playlist` that, efficiently with respect to time used, returns true if a playlist is repeating or false if it is not.\n",
    "\n",
    "For example, the following code prints \"True\" as both songs point to each other.\n",
    "\n",
    "```py\n",
    "first = Song(\"Hello\")\n",
    "second = Song(\"Eye of the tiger\")\n",
    "\n",
    "first.next_song(second)\n",
    "second.next_song(first)\n",
    "\n",
    "print(first.is_in_repeating_playlist())\n",
    "```"
   ]
  },
  {
   "cell_type": "code",
   "execution_count": 18,
   "metadata": {},
   "outputs": [
    {
     "name": "stdout",
     "output_type": "stream",
     "text": [
      "True\n"
     ]
    }
   ],
   "source": [
    "'''\n",
    "solution 1 Floyd's Tortoise and Hare algorithm\n",
    "''' \n",
    "class Song:\n",
    "    def __init__(self, name):\n",
    "        self.name = name\n",
    "        self.next = None  \n",
    "\n",
    "    def next_song(self, song):\n",
    "        self.next = song  \n",
    "\n",
    "    def is_in_repeating_playlist(self):\n",
    "        tortoise = self                                        \n",
    "        hare = self.next                                      \n",
    "\n",
    "        while hare is not None and hare.next is not None:\n",
    "            tortoise = tortoise.next                             \n",
    "            hare = hare.next.next                                \n",
    "\n",
    "            if tortoise == hare:        \n",
    "                return True\n",
    "\n",
    "        return False\n",
    "\n",
    "first = Song(\"Hello\")\n",
    "second = Song(\"Eye of the tiger\")\n",
    "\n",
    "first.next_song(second)\n",
    "second.next_song(first)  \n",
    "\n",
    "print(first.is_in_repeating_playlist()) \n"
   ]
  },
  {
   "cell_type": "code",
   "execution_count": 20,
   "metadata": {},
   "outputs": [
    {
     "name": "stdout",
     "output_type": "stream",
     "text": [
      "True\n"
     ]
    }
   ],
   "source": [
    "'''\n",
    "solution 2 Hash Set algorithm\n",
    "''' \n",
    "class Song:\n",
    "    def __init__(self, name):\n",
    "        self.name = name\n",
    "        self.next = None\n",
    "\n",
    "    def next_song(self, song):\n",
    "        self.next = song\n",
    "\n",
    "    def is_in_repeating_playlist(self):\n",
    "        songs_seen = set()\n",
    "        current_song = self\n",
    "\n",
    "        while current_song:\n",
    "            if current_song in songs_seen:\n",
    "                return True\n",
    "            songs_seen.add(current_song)\n",
    "            current_song = current_song.next\n",
    "\n",
    "        return False\n",
    "    \n",
    "\n",
    "first = Song(\"Hello\")\n",
    "second = Song(\"Eye of the tiger\")\n",
    "\n",
    "first.next_song(second)\n",
    "second.next_song(first)  \n",
    "\n",
    "\n",
    "print(first.is_in_repeating_playlist()) \n"
   ]
  }
 ],
 "metadata": {
  "kernelspec": {
   "display_name": "Python 3",
   "language": "python",
   "name": "python3"
  },
  "language_info": {
   "codemirror_mode": {
    "name": "ipython",
    "version": 3
   },
   "file_extension": ".py",
   "mimetype": "text/x-python",
   "name": "python",
   "nbconvert_exporter": "python",
   "pygments_lexer": "ipython3",
   "version": "3.11.3"
  }
 },
 "nbformat": 4,
 "nbformat_minor": 2
}
