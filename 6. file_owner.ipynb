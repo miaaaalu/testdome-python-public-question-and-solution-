{
 "cells": [
  {
   "cell_type": "markdown",
   "metadata": {},
   "source": [
    "# File Owner \n",
    "\n",
    "Implement a group_by_owners function that:\n",
    "\n",
    "Accepts a dictionary containing the file owner name for each file name.\n",
    "\n",
    "Returns a dictionary containing a list of file names for each owner name, in any order.\n",
    "\n",
    "For example, for a dictionary \n",
    "```py \n",
    "{'Input.txt': 'Randy', 'Code.py': 'Stan', 'Output.txt': 'Randy'} \n",
    "```\n",
    "\n",
    "the group_by_owners function should return \n",
    "```py \n",
    "{'Randy': ['Input.txt', 'Output.txt'], 'Stan': ['Code.py']}\n",
    "```"
   ]
  },
  {
   "cell_type": "code",
   "execution_count": 1,
   "metadata": {},
   "outputs": [
    {
     "name": "stdout",
     "output_type": "stream",
     "text": [
      "{'Randy': ['Input.txt', 'Output.txt'], 'Stan': ['Code.py']}\n"
     ]
    }
   ],
   "source": [
    "def group_by_owners(files):\n",
    "    owners_dict = {}\n",
    "\n",
    "    for file, owner in files.items():\n",
    "        if owner in owners_dict:\n",
    "            owners_dict[owner].append(file)\n",
    "        else:\n",
    "            owners_dict[owner] = [file]\n",
    "            \n",
    "    return owners_dict\n",
    "\n",
    "if __name__ == \"__main__\":    \n",
    "    files = {\n",
    "        'Input.txt': 'Randy',\n",
    "        'Code.py': 'Stan',\n",
    "        'Output.txt': 'Randy'\n",
    "    }   \n",
    "    print(group_by_owners(files))"
   ]
  }
 ],
 "metadata": {
  "kernelspec": {
   "display_name": "Python 3",
   "language": "python",
   "name": "python3"
  },
  "language_info": {
   "codemirror_mode": {
    "name": "ipython",
    "version": 3
   },
   "file_extension": ".py",
   "mimetype": "text/x-python",
   "name": "python",
   "nbconvert_exporter": "python",
   "pygments_lexer": "ipython3",
   "version": "3.11.3"
  }
 },
 "nbformat": 4,
 "nbformat_minor": 2
}
