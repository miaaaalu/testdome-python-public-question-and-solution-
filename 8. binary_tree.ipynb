{
 "cells": [
  {
   "cell_type": "markdown",
   "metadata": {},
   "source": [
    "# Binary Search Tree \n",
    "\n",
    "Binary search tree (BST) is a binary tree where the value of each node is larger or equal to the values in all the nodes in that node's left subtree and is smaller than the values in all the nodes in that node's right subtree.\n",
    "\n",
    "Write a function that, efficiently with respect to time used, checks if a given binary search tree contains a given value.\n",
    "\n",
    "For example, for the following tree:\n",
    "\n",
    "- n1 (Value: 1, Left: null, Right: null)\n",
    "- n2 (Value: 2, Left: n1, Right: n3)\n",
    "- n3 (Value: 3, Left: null, Right: null)\n",
    "\n",
    "Call to contains(n2, 3) should return True since a tree with root at n2 contains number 3.\n"
   ]
  },
  {
   "cell_type": "code",
   "execution_count": 19,
   "metadata": {},
   "outputs": [
    {
     "data": {
      "text/plain": [
       "Node(left=None, right=None, value=3)"
      ]
     },
     "execution_count": 19,
     "metadata": {},
     "output_type": "execute_result"
    }
   ],
   "source": [
    "import collections\n",
    "Node = collections.namedtuple('Node', ['left', 'right', 'value'])\n",
    "\n",
    "def contains(root, value):\n",
    "    if root is None:\n",
    "        return False\n",
    "    if root.value == value:\n",
    "        return True\n",
    "    if value < root.value:\n",
    "        return contains(root.left, value)\n",
    "    else:\n",
    "        return contains(root.right, value)\n",
    "\n",
    "n1 = Node(value=1, left=None, right=None)\n",
    "n3 = Node(value=3, left=None, right=None)\n",
    "n2 = Node(value=2, left=n1, right=n3)\n",
    "\n",
    "# Test the contains function\n",
    "print(contains(n2, 3))  # Should return True, since 3 is in the BST\n"
   ]
  }
 ],
 "metadata": {
  "kernelspec": {
   "display_name": "Python 3",
   "language": "python",
   "name": "python3"
  },
  "language_info": {
   "codemirror_mode": {
    "name": "ipython",
    "version": 3
   },
   "file_extension": ".py",
   "mimetype": "text/x-python",
   "name": "python",
   "nbconvert_exporter": "python",
   "pygments_lexer": "ipython3",
   "version": "3.11.3"
  }
 },
 "nbformat": 4,
 "nbformat_minor": 2
}
